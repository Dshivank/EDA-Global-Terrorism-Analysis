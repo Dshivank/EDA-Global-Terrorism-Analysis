{
  "nbformat": 4,
  "nbformat_minor": 0,
  "metadata": {
    "kernelspec": {
      "display_name": "Python 3",
      "language": "python",
      "name": "python3"
    },
    "language_info": {
      "codemirror_mode": {
        "name": "ipython",
        "version": 3
      },
      "file_extension": ".py",
      "mimetype": "text/x-python",
      "name": "python",
      "nbconvert_exporter": "python",
      "pygments_lexer": "ipython3",
      "version": "3.6.6"
    },
    "colab": {
      "name": "Copy of Global Terrorism Analysis - Capstone Project.ipynb",
      "provenance": [],
      "collapsed_sections": [],
      "include_colab_link": true
    }
  },
  "cells": [
    {
      "cell_type": "markdown",
      "metadata": {
        "id": "view-in-github",
        "colab_type": "text"
      },
      "source": [
        "<a href=\"https://colab.research.google.com/github/Dshivank/EDA-Global-Terrorism-Analysis/blob/main/Global_Terrorism_Analysis_Capstone_Project.ipynb\" target=\"_parent\"><img src=\"https://colab.research.google.com/assets/colab-badge.svg\" alt=\"Open In Colab\"/></a>"
      ]
    },
    {
      "cell_type": "markdown",
      "source": [
        "## <b> GLOBAL TERRORISM DATABASE </b>\n"
      ],
      "metadata": {
        "id": "0RK96kDoQO5P"
      }
    },
    {
      "cell_type": "markdown",
      "metadata": {
        "id": "Y06xIdG26kRF"
      },
      "source": [
        "## <b> The Global Terrorism Database (GTD) is an open-source database including information on terrorist attacks around the world from 1970 through 2017. The GTD includes systematic data on domestic as well as international terrorist incidents that have occurred during this time period and now includes more than 180,000 attacks. The database is maintained by researchers at the National Consortium for the Study of Terrorism and Responses to Terrorism (START), headquartered at the University of Maryland.</b>\n",
        "\n",
        "# <b> Explore and analyze the data to discover key findings pertaining to terrorist activities. </b>"
      ]
    },
    {
      "cell_type": "markdown",
      "source": [
        "## <b> 1.  Getting the data ready for Classification </b>\n"
      ],
      "metadata": {
        "id": "ZKBY5hqxQWgZ"
      }
    },
    {
      "cell_type": "code",
      "metadata": {
        "id": "dByMsuzT8Tnw"
      },
      "source": [
        "# We will start with importing some important libraries \n",
        "\n",
        "import numpy as np\n",
        "import pandas as pd\n",
        "import seaborn as sns\n",
        "import matplotlib.pyplot as plt\n",
        "from datetime import datetime\n",
        "\n",
        "%matplotlib inline"
      ],
      "execution_count": null,
      "outputs": []
    },
    {
      "cell_type": "code",
      "source": [
        "# Mounting the Drive\n",
        " \n",
        "from google.colab import drive\n",
        "drive.mount('/content/drive')"
      ],
      "metadata": {
        "colab": {
          "base_uri": "https://localhost:8080/"
        },
        "id": "PXQU64BQ_3-N",
        "outputId": "1e87baf3-f9eb-4bf6-f51c-3315538c26b9"
      },
      "execution_count": null,
      "outputs": [
        {
          "output_type": "stream",
          "name": "stdout",
          "text": [
            "Mounted at /content/drive\n"
          ]
        }
      ]
    },
    {
      "cell_type": "code",
      "source": [
        "# Importing the required data from the drive\n",
        "\n",
        "file_path = \"/content/drive/MyDrive/Global Terrorism Data.csv\"\n",
        "terrorism_data = pd.read_csv(file_path, encoding='ISO-8859-1')"
      ],
      "metadata": {
        "id": "YrEJNoAvBrCL",
        "colab": {
          "base_uri": "https://localhost:8080/"
        },
        "outputId": "dbd35832-45a9-4524-9517-f53bffef0826"
      },
      "execution_count": null,
      "outputs": [
        {
          "output_type": "stream",
          "name": "stderr",
          "text": [
            "/usr/local/lib/python3.7/dist-packages/IPython/core/interactiveshell.py:2882: DtypeWarning: Columns (4,6,31,33,61,62,63,76,79,90,92,94,96,114,115,121) have mixed types.Specify dtype option on import or set low_memory=False.\n",
            "  exec(code_obj, self.user_global_ns, self.user_ns)\n"
          ]
        }
      ]
    },
    {
      "cell_type": "code",
      "source": [
        "# Checking the data with the head method\n",
        " \n",
        "terrorism_data.head(2)"
      ],
      "metadata": {
        "id": "PMdha7PBCJ4o",
        "colab": {
          "base_uri": "https://localhost:8080/",
          "height": 223
        },
        "outputId": "b26ee957-e6a4-4633-bb4a-e90ac31e7ba6"
      },
      "execution_count": null,
      "outputs": [
        {
          "output_type": "execute_result",
          "data": {
            "text/plain": [
              "        eventid  iyear  imonth  iday approxdate  extended resolution  country  \\\n",
              "0  197000000001   1970       7     2        NaN         0        NaN       58   \n",
              "1  197000000002   1970       0     0        NaN         0        NaN      130   \n",
              "\n",
              "          country_txt  region  ... addnotes scite1 scite2  scite3  dbsource  \\\n",
              "0  Dominican Republic       2  ...      NaN    NaN    NaN     NaN      PGIS   \n",
              "1              Mexico       1  ...      NaN    NaN    NaN     NaN      PGIS   \n",
              "\n",
              "   INT_LOG  INT_IDEO INT_MISC INT_ANY  related  \n",
              "0        0         0        0       0      NaN  \n",
              "1        0         1        1       1      NaN  \n",
              "\n",
              "[2 rows x 135 columns]"
            ],
            "text/html": [
              "\n",
              "  <div id=\"df-5f043f8f-cc95-49d0-b7c9-4213c7be2c8e\">\n",
              "    <div class=\"colab-df-container\">\n",
              "      <div>\n",
              "<style scoped>\n",
              "    .dataframe tbody tr th:only-of-type {\n",
              "        vertical-align: middle;\n",
              "    }\n",
              "\n",
              "    .dataframe tbody tr th {\n",
              "        vertical-align: top;\n",
              "    }\n",
              "\n",
              "    .dataframe thead th {\n",
              "        text-align: right;\n",
              "    }\n",
              "</style>\n",
              "<table border=\"1\" class=\"dataframe\">\n",
              "  <thead>\n",
              "    <tr style=\"text-align: right;\">\n",
              "      <th></th>\n",
              "      <th>eventid</th>\n",
              "      <th>iyear</th>\n",
              "      <th>imonth</th>\n",
              "      <th>iday</th>\n",
              "      <th>approxdate</th>\n",
              "      <th>extended</th>\n",
              "      <th>resolution</th>\n",
              "      <th>country</th>\n",
              "      <th>country_txt</th>\n",
              "      <th>region</th>\n",
              "      <th>...</th>\n",
              "      <th>addnotes</th>\n",
              "      <th>scite1</th>\n",
              "      <th>scite2</th>\n",
              "      <th>scite3</th>\n",
              "      <th>dbsource</th>\n",
              "      <th>INT_LOG</th>\n",
              "      <th>INT_IDEO</th>\n",
              "      <th>INT_MISC</th>\n",
              "      <th>INT_ANY</th>\n",
              "      <th>related</th>\n",
              "    </tr>\n",
              "  </thead>\n",
              "  <tbody>\n",
              "    <tr>\n",
              "      <th>0</th>\n",
              "      <td>197000000001</td>\n",
              "      <td>1970</td>\n",
              "      <td>7</td>\n",
              "      <td>2</td>\n",
              "      <td>NaN</td>\n",
              "      <td>0</td>\n",
              "      <td>NaN</td>\n",
              "      <td>58</td>\n",
              "      <td>Dominican Republic</td>\n",
              "      <td>2</td>\n",
              "      <td>...</td>\n",
              "      <td>NaN</td>\n",
              "      <td>NaN</td>\n",
              "      <td>NaN</td>\n",
              "      <td>NaN</td>\n",
              "      <td>PGIS</td>\n",
              "      <td>0</td>\n",
              "      <td>0</td>\n",
              "      <td>0</td>\n",
              "      <td>0</td>\n",
              "      <td>NaN</td>\n",
              "    </tr>\n",
              "    <tr>\n",
              "      <th>1</th>\n",
              "      <td>197000000002</td>\n",
              "      <td>1970</td>\n",
              "      <td>0</td>\n",
              "      <td>0</td>\n",
              "      <td>NaN</td>\n",
              "      <td>0</td>\n",
              "      <td>NaN</td>\n",
              "      <td>130</td>\n",
              "      <td>Mexico</td>\n",
              "      <td>1</td>\n",
              "      <td>...</td>\n",
              "      <td>NaN</td>\n",
              "      <td>NaN</td>\n",
              "      <td>NaN</td>\n",
              "      <td>NaN</td>\n",
              "      <td>PGIS</td>\n",
              "      <td>0</td>\n",
              "      <td>1</td>\n",
              "      <td>1</td>\n",
              "      <td>1</td>\n",
              "      <td>NaN</td>\n",
              "    </tr>\n",
              "  </tbody>\n",
              "</table>\n",
              "<p>2 rows × 135 columns</p>\n",
              "</div>\n",
              "      <button class=\"colab-df-convert\" onclick=\"convertToInteractive('df-5f043f8f-cc95-49d0-b7c9-4213c7be2c8e')\"\n",
              "              title=\"Convert this dataframe to an interactive table.\"\n",
              "              style=\"display:none;\">\n",
              "        \n",
              "  <svg xmlns=\"http://www.w3.org/2000/svg\" height=\"24px\"viewBox=\"0 0 24 24\"\n",
              "       width=\"24px\">\n",
              "    <path d=\"M0 0h24v24H0V0z\" fill=\"none\"/>\n",
              "    <path d=\"M18.56 5.44l.94 2.06.94-2.06 2.06-.94-2.06-.94-.94-2.06-.94 2.06-2.06.94zm-11 1L8.5 8.5l.94-2.06 2.06-.94-2.06-.94L8.5 2.5l-.94 2.06-2.06.94zm10 10l.94 2.06.94-2.06 2.06-.94-2.06-.94-.94-2.06-.94 2.06-2.06.94z\"/><path d=\"M17.41 7.96l-1.37-1.37c-.4-.4-.92-.59-1.43-.59-.52 0-1.04.2-1.43.59L10.3 9.45l-7.72 7.72c-.78.78-.78 2.05 0 2.83L4 21.41c.39.39.9.59 1.41.59.51 0 1.02-.2 1.41-.59l7.78-7.78 2.81-2.81c.8-.78.8-2.07 0-2.86zM5.41 20L4 18.59l7.72-7.72 1.47 1.35L5.41 20z\"/>\n",
              "  </svg>\n",
              "      </button>\n",
              "      \n",
              "  <style>\n",
              "    .colab-df-container {\n",
              "      display:flex;\n",
              "      flex-wrap:wrap;\n",
              "      gap: 12px;\n",
              "    }\n",
              "\n",
              "    .colab-df-convert {\n",
              "      background-color: #E8F0FE;\n",
              "      border: none;\n",
              "      border-radius: 50%;\n",
              "      cursor: pointer;\n",
              "      display: none;\n",
              "      fill: #1967D2;\n",
              "      height: 32px;\n",
              "      padding: 0 0 0 0;\n",
              "      width: 32px;\n",
              "    }\n",
              "\n",
              "    .colab-df-convert:hover {\n",
              "      background-color: #E2EBFA;\n",
              "      box-shadow: 0px 1px 2px rgba(60, 64, 67, 0.3), 0px 1px 3px 1px rgba(60, 64, 67, 0.15);\n",
              "      fill: #174EA6;\n",
              "    }\n",
              "\n",
              "    [theme=dark] .colab-df-convert {\n",
              "      background-color: #3B4455;\n",
              "      fill: #D2E3FC;\n",
              "    }\n",
              "\n",
              "    [theme=dark] .colab-df-convert:hover {\n",
              "      background-color: #434B5C;\n",
              "      box-shadow: 0px 1px 3px 1px rgba(0, 0, 0, 0.15);\n",
              "      filter: drop-shadow(0px 1px 2px rgba(0, 0, 0, 0.3));\n",
              "      fill: #FFFFFF;\n",
              "    }\n",
              "  </style>\n",
              "\n",
              "      <script>\n",
              "        const buttonEl =\n",
              "          document.querySelector('#df-5f043f8f-cc95-49d0-b7c9-4213c7be2c8e button.colab-df-convert');\n",
              "        buttonEl.style.display =\n",
              "          google.colab.kernel.accessAllowed ? 'block' : 'none';\n",
              "\n",
              "        async function convertToInteractive(key) {\n",
              "          const element = document.querySelector('#df-5f043f8f-cc95-49d0-b7c9-4213c7be2c8e');\n",
              "          const dataTable =\n",
              "            await google.colab.kernel.invokeFunction('convertToInteractive',\n",
              "                                                     [key], {});\n",
              "          if (!dataTable) return;\n",
              "\n",
              "          const docLinkHtml = 'Like what you see? Visit the ' +\n",
              "            '<a target=\"_blank\" href=https://colab.research.google.com/notebooks/data_table.ipynb>data table notebook</a>'\n",
              "            + ' to learn more about interactive tables.';\n",
              "          element.innerHTML = '';\n",
              "          dataTable['output_type'] = 'display_data';\n",
              "          await google.colab.output.renderOutput(dataTable, element);\n",
              "          const docLink = document.createElement('div');\n",
              "          docLink.innerHTML = docLinkHtml;\n",
              "          element.appendChild(docLink);\n",
              "        }\n",
              "      </script>\n",
              "    </div>\n",
              "  </div>\n",
              "  "
            ]
          },
          "metadata": {},
          "execution_count": 4
        }
      ]
    },
    {
      "cell_type": "code",
      "source": [
        "# Checking the columns available in the dataset \n",
        "\n",
        "terrorism_data.columns"
      ],
      "metadata": {
        "id": "oOGJvuwXDPmT",
        "colab": {
          "base_uri": "https://localhost:8080/"
        },
        "outputId": "57e6bbbf-9104-4e9f-a1cc-3d3efe3a64f6"
      },
      "execution_count": null,
      "outputs": [
        {
          "output_type": "execute_result",
          "data": {
            "text/plain": [
              "Index(['eventid', 'iyear', 'imonth', 'iday', 'approxdate', 'extended',\n",
              "       'resolution', 'country', 'country_txt', 'region',\n",
              "       ...\n",
              "       'addnotes', 'scite1', 'scite2', 'scite3', 'dbsource', 'INT_LOG',\n",
              "       'INT_IDEO', 'INT_MISC', 'INT_ANY', 'related'],\n",
              "      dtype='object', length=135)"
            ]
          },
          "metadata": {},
          "execution_count": 5
        }
      ]
    },
    {
      "cell_type": "code",
      "source": [
        "# checking the shape of the dataset\n",
        "\n",
        "terrorism_data.shape"
      ],
      "metadata": {
        "id": "LmmbmHALDfwW",
        "colab": {
          "base_uri": "https://localhost:8080/"
        },
        "outputId": "a2d05cb8-57cd-499f-ddd6-31a9baac0afd"
      },
      "execution_count": null,
      "outputs": [
        {
          "output_type": "execute_result",
          "data": {
            "text/plain": [
              "(181691, 135)"
            ]
          },
          "metadata": {},
          "execution_count": 6
        }
      ]
    },
    {
      "cell_type": "code",
      "source": [
        "# By the info method we can check the Nan values and the datatype of all the columns in our dataset\n",
        "\n",
        "terrorism_data.info(verbose= True, null_counts = True)"
      ],
      "metadata": {
        "id": "vESnzgAiFmBE",
        "colab": {
          "base_uri": "https://localhost:8080/"
        },
        "outputId": "1d155190-b873-44c9-e9c2-76203968fab5"
      },
      "execution_count": null,
      "outputs": [
        {
          "output_type": "stream",
          "name": "stderr",
          "text": [
            "/usr/local/lib/python3.7/dist-packages/ipykernel_launcher.py:3: FutureWarning: null_counts is deprecated. Use show_counts instead\n",
            "  This is separate from the ipykernel package so we can avoid doing imports until\n"
          ]
        },
        {
          "output_type": "stream",
          "name": "stdout",
          "text": [
            "<class 'pandas.core.frame.DataFrame'>\n",
            "RangeIndex: 181691 entries, 0 to 181690\n",
            "Data columns (total 135 columns):\n",
            " #    Column              Non-Null Count   Dtype  \n",
            "---   ------              --------------   -----  \n",
            " 0    eventid             181691 non-null  int64  \n",
            " 1    iyear               181691 non-null  int64  \n",
            " 2    imonth              181691 non-null  int64  \n",
            " 3    iday                181691 non-null  int64  \n",
            " 4    approxdate          9239 non-null    object \n",
            " 5    extended            181691 non-null  int64  \n",
            " 6    resolution          2220 non-null    object \n",
            " 7    country             181691 non-null  int64  \n",
            " 8    country_txt         181691 non-null  object \n",
            " 9    region              181691 non-null  int64  \n",
            " 10   region_txt          181691 non-null  object \n",
            " 11   provstate           181270 non-null  object \n",
            " 12   city                181257 non-null  object \n",
            " 13   latitude            177135 non-null  float64\n",
            " 14   longitude           177134 non-null  float64\n",
            " 15   specificity         181685 non-null  float64\n",
            " 16   vicinity            181691 non-null  int64  \n",
            " 17   location            55495 non-null   object \n",
            " 18   summary             115562 non-null  object \n",
            " 19   crit1               181691 non-null  int64  \n",
            " 20   crit2               181691 non-null  int64  \n",
            " 21   crit3               181691 non-null  int64  \n",
            " 22   doubtterr           181690 non-null  float64\n",
            " 23   alternative         29011 non-null   float64\n",
            " 24   alternative_txt     29011 non-null   object \n",
            " 25   multiple            181690 non-null  float64\n",
            " 26   success             181691 non-null  int64  \n",
            " 27   suicide             181691 non-null  int64  \n",
            " 28   attacktype1         181691 non-null  int64  \n",
            " 29   attacktype1_txt     181691 non-null  object \n",
            " 30   attacktype2         6314 non-null    float64\n",
            " 31   attacktype2_txt     6314 non-null    object \n",
            " 32   attacktype3         428 non-null     float64\n",
            " 33   attacktype3_txt     428 non-null     object \n",
            " 34   targtype1           181691 non-null  int64  \n",
            " 35   targtype1_txt       181691 non-null  object \n",
            " 36   targsubtype1        171318 non-null  float64\n",
            " 37   targsubtype1_txt    171318 non-null  object \n",
            " 38   corp1               139141 non-null  object \n",
            " 39   target1             181055 non-null  object \n",
            " 40   natlty1             180132 non-null  float64\n",
            " 41   natlty1_txt         180132 non-null  object \n",
            " 42   targtype2           11144 non-null   float64\n",
            " 43   targtype2_txt       11144 non-null   object \n",
            " 44   targsubtype2        10685 non-null   float64\n",
            " 45   targsubtype2_txt    10685 non-null   object \n",
            " 46   corp2               10117 non-null   object \n",
            " 47   target2             11020 non-null   object \n",
            " 48   natlty2             10828 non-null   float64\n",
            " 49   natlty2_txt         10828 non-null   object \n",
            " 50   targtype3           1176 non-null    float64\n",
            " 51   targtype3_txt       1176 non-null    object \n",
            " 52   targsubtype3        1097 non-null    float64\n",
            " 53   targsubtype3_txt    1097 non-null    object \n",
            " 54   corp3               1026 non-null    object \n",
            " 55   target3             1175 non-null    object \n",
            " 56   natlty3             1147 non-null    float64\n",
            " 57   natlty3_txt         1147 non-null    object \n",
            " 58   gname               181691 non-null  object \n",
            " 59   gsubname            5890 non-null    object \n",
            " 60   gname2              2013 non-null    object \n",
            " 61   gsubname2           160 non-null     object \n",
            " 62   gname3              324 non-null     object \n",
            " 63   gsubname3           20 non-null      object \n",
            " 64   motive              50561 non-null   object \n",
            " 65   guncertain1         181311 non-null  float64\n",
            " 66   guncertain2         1955 non-null    float64\n",
            " 67   guncertain3         320 non-null     float64\n",
            " 68   individual          181691 non-null  int64  \n",
            " 69   nperps              110576 non-null  float64\n",
            " 70   nperpcap            112202 non-null  float64\n",
            " 71   claimed             115571 non-null  float64\n",
            " 72   claimmode           19083 non-null   float64\n",
            " 73   claimmode_txt       19083 non-null   object \n",
            " 74   claim2              1890 non-null    float64\n",
            " 75   claimmode2          616 non-null     float64\n",
            " 76   claimmode2_txt      616 non-null     object \n",
            " 77   claim3              318 non-null     float64\n",
            " 78   claimmode3          133 non-null     float64\n",
            " 79   claimmode3_txt      133 non-null     object \n",
            " 80   compclaim           4839 non-null    float64\n",
            " 81   weaptype1           181691 non-null  int64  \n",
            " 82   weaptype1_txt       181691 non-null  object \n",
            " 83   weapsubtype1        160923 non-null  float64\n",
            " 84   weapsubtype1_txt    160923 non-null  object \n",
            " 85   weaptype2           13127 non-null   float64\n",
            " 86   weaptype2_txt       13127 non-null   object \n",
            " 87   weapsubtype2        11542 non-null   float64\n",
            " 88   weapsubtype2_txt    11542 non-null   object \n",
            " 89   weaptype3           1863 non-null    float64\n",
            " 90   weaptype3_txt       1863 non-null    object \n",
            " 91   weapsubtype3        1693 non-null    float64\n",
            " 92   weapsubtype3_txt    1693 non-null    object \n",
            " 93   weaptype4           73 non-null      float64\n",
            " 94   weaptype4_txt       73 non-null      object \n",
            " 95   weapsubtype4        70 non-null      float64\n",
            " 96   weapsubtype4_txt    70 non-null      object \n",
            " 97   weapdetail          114021 non-null  object \n",
            " 98   nkill               171378 non-null  float64\n",
            " 99   nkillus             117245 non-null  float64\n",
            " 100  nkillter            114733 non-null  float64\n",
            " 101  nwound              165380 non-null  float64\n",
            " 102  nwoundus            116989 non-null  float64\n",
            " 103  nwoundte            112548 non-null  float64\n",
            " 104  property            181691 non-null  int64  \n",
            " 105  propextent          64065 non-null   float64\n",
            " 106  propextent_txt      64065 non-null   object \n",
            " 107  propvalue           38989 non-null   float64\n",
            " 108  propcomment         57959 non-null   object \n",
            " 109  ishostkid           181513 non-null  float64\n",
            " 110  nhostkid            13572 non-null   float64\n",
            " 111  nhostkidus          13517 non-null   float64\n",
            " 112  nhours              4063 non-null    float64\n",
            " 113  ndays               8124 non-null    float64\n",
            " 114  divert              324 non-null     object \n",
            " 115  kidhijcountry       3305 non-null    object \n",
            " 116  ransom              77381 non-null   float64\n",
            " 117  ransomamt           1350 non-null    float64\n",
            " 118  ransomamtus         563 non-null     float64\n",
            " 119  ransompaid          774 non-null     float64\n",
            " 120  ransompaidus        552 non-null     float64\n",
            " 121  ransomnote          514 non-null     object \n",
            " 122  hostkidoutcome      10991 non-null   float64\n",
            " 123  hostkidoutcome_txt  10991 non-null   object \n",
            " 124  nreleased           10400 non-null   float64\n",
            " 125  addnotes            28289 non-null   object \n",
            " 126  scite1              115500 non-null  object \n",
            " 127  scite2              76933 non-null   object \n",
            " 128  scite3              43516 non-null   object \n",
            " 129  dbsource            181691 non-null  object \n",
            " 130  INT_LOG             181691 non-null  int64  \n",
            " 131  INT_IDEO            181691 non-null  int64  \n",
            " 132  INT_MISC            181691 non-null  int64  \n",
            " 133  INT_ANY             181691 non-null  int64  \n",
            " 134  related             25038 non-null   object \n",
            "dtypes: float64(55), int64(22), object(58)\n",
            "memory usage: 187.1+ MB\n"
          ]
        }
      ]
    },
    {
      "cell_type": "markdown",
      "source": [
        "## <b> 2. Cleaning the data"
      ],
      "metadata": {
        "id": "csOURoMBD_xM"
      }
    },
    {
      "cell_type": "code",
      "source": [
        "# Now we have created a new dataset (i.e terrorism_data_new) where we will keep only the columns which we need for the analysis\n",
        "\n",
        "terrorism_data_new = terrorism_data[['iyear', 'imonth', 'iday', 'country_txt', 'region_txt', 'provstate', 'city','latitude', 'longitude', 'success', 'attacktype1_txt', 'targtype1_txt', 'gname', 'weaptype1_txt', 'nkill', 'ransom']]"
      ],
      "metadata": {
        "id": "RMZza4srD-aB"
      },
      "execution_count": null,
      "outputs": []
    },
    {
      "cell_type": "code",
      "source": [
        "# Checking our new updated dataframe\n",
        "\n",
        "terrorism_data_new.head(2)"
      ],
      "metadata": {
        "id": "sGYZg47CFPZn",
        "colab": {
          "base_uri": "https://localhost:8080/",
          "height": 263
        },
        "outputId": "46be5ab9-c042-438b-ece0-567157e9a5ea"
      },
      "execution_count": null,
      "outputs": [
        {
          "output_type": "execute_result",
          "data": {
            "text/plain": [
              "   iyear  imonth  iday         country_txt                   region_txt  \\\n",
              "0   1970       7     2  Dominican Republic  Central America & Caribbean   \n",
              "1   1970       0     0              Mexico                North America   \n",
              "\n",
              "  provstate           city   latitude  longitude  success  \\\n",
              "0       NaN  Santo Domingo  18.456792 -69.951164        1   \n",
              "1   Federal    Mexico city  19.371887 -99.086624        1   \n",
              "\n",
              "               attacktype1_txt                targtype1_txt  \\\n",
              "0                Assassination  Private Citizens & Property   \n",
              "1  Hostage Taking (Kidnapping)      Government (Diplomatic)   \n",
              "\n",
              "                                gname weaptype1_txt  nkill  ransom  \n",
              "0                              MANO-D       Unknown    1.0     0.0  \n",
              "1  23rd of September Communist League       Unknown    0.0     1.0  "
            ],
            "text/html": [
              "\n",
              "  <div id=\"df-6205cd8e-a980-4ed5-a1b1-7d92f66636d2\">\n",
              "    <div class=\"colab-df-container\">\n",
              "      <div>\n",
              "<style scoped>\n",
              "    .dataframe tbody tr th:only-of-type {\n",
              "        vertical-align: middle;\n",
              "    }\n",
              "\n",
              "    .dataframe tbody tr th {\n",
              "        vertical-align: top;\n",
              "    }\n",
              "\n",
              "    .dataframe thead th {\n",
              "        text-align: right;\n",
              "    }\n",
              "</style>\n",
              "<table border=\"1\" class=\"dataframe\">\n",
              "  <thead>\n",
              "    <tr style=\"text-align: right;\">\n",
              "      <th></th>\n",
              "      <th>iyear</th>\n",
              "      <th>imonth</th>\n",
              "      <th>iday</th>\n",
              "      <th>country_txt</th>\n",
              "      <th>region_txt</th>\n",
              "      <th>provstate</th>\n",
              "      <th>city</th>\n",
              "      <th>latitude</th>\n",
              "      <th>longitude</th>\n",
              "      <th>success</th>\n",
              "      <th>attacktype1_txt</th>\n",
              "      <th>targtype1_txt</th>\n",
              "      <th>gname</th>\n",
              "      <th>weaptype1_txt</th>\n",
              "      <th>nkill</th>\n",
              "      <th>ransom</th>\n",
              "    </tr>\n",
              "  </thead>\n",
              "  <tbody>\n",
              "    <tr>\n",
              "      <th>0</th>\n",
              "      <td>1970</td>\n",
              "      <td>7</td>\n",
              "      <td>2</td>\n",
              "      <td>Dominican Republic</td>\n",
              "      <td>Central America &amp; Caribbean</td>\n",
              "      <td>NaN</td>\n",
              "      <td>Santo Domingo</td>\n",
              "      <td>18.456792</td>\n",
              "      <td>-69.951164</td>\n",
              "      <td>1</td>\n",
              "      <td>Assassination</td>\n",
              "      <td>Private Citizens &amp; Property</td>\n",
              "      <td>MANO-D</td>\n",
              "      <td>Unknown</td>\n",
              "      <td>1.0</td>\n",
              "      <td>0.0</td>\n",
              "    </tr>\n",
              "    <tr>\n",
              "      <th>1</th>\n",
              "      <td>1970</td>\n",
              "      <td>0</td>\n",
              "      <td>0</td>\n",
              "      <td>Mexico</td>\n",
              "      <td>North America</td>\n",
              "      <td>Federal</td>\n",
              "      <td>Mexico city</td>\n",
              "      <td>19.371887</td>\n",
              "      <td>-99.086624</td>\n",
              "      <td>1</td>\n",
              "      <td>Hostage Taking (Kidnapping)</td>\n",
              "      <td>Government (Diplomatic)</td>\n",
              "      <td>23rd of September Communist League</td>\n",
              "      <td>Unknown</td>\n",
              "      <td>0.0</td>\n",
              "      <td>1.0</td>\n",
              "    </tr>\n",
              "  </tbody>\n",
              "</table>\n",
              "</div>\n",
              "      <button class=\"colab-df-convert\" onclick=\"convertToInteractive('df-6205cd8e-a980-4ed5-a1b1-7d92f66636d2')\"\n",
              "              title=\"Convert this dataframe to an interactive table.\"\n",
              "              style=\"display:none;\">\n",
              "        \n",
              "  <svg xmlns=\"http://www.w3.org/2000/svg\" height=\"24px\"viewBox=\"0 0 24 24\"\n",
              "       width=\"24px\">\n",
              "    <path d=\"M0 0h24v24H0V0z\" fill=\"none\"/>\n",
              "    <path d=\"M18.56 5.44l.94 2.06.94-2.06 2.06-.94-2.06-.94-.94-2.06-.94 2.06-2.06.94zm-11 1L8.5 8.5l.94-2.06 2.06-.94-2.06-.94L8.5 2.5l-.94 2.06-2.06.94zm10 10l.94 2.06.94-2.06 2.06-.94-2.06-.94-.94-2.06-.94 2.06-2.06.94z\"/><path d=\"M17.41 7.96l-1.37-1.37c-.4-.4-.92-.59-1.43-.59-.52 0-1.04.2-1.43.59L10.3 9.45l-7.72 7.72c-.78.78-.78 2.05 0 2.83L4 21.41c.39.39.9.59 1.41.59.51 0 1.02-.2 1.41-.59l7.78-7.78 2.81-2.81c.8-.78.8-2.07 0-2.86zM5.41 20L4 18.59l7.72-7.72 1.47 1.35L5.41 20z\"/>\n",
              "  </svg>\n",
              "      </button>\n",
              "      \n",
              "  <style>\n",
              "    .colab-df-container {\n",
              "      display:flex;\n",
              "      flex-wrap:wrap;\n",
              "      gap: 12px;\n",
              "    }\n",
              "\n",
              "    .colab-df-convert {\n",
              "      background-color: #E8F0FE;\n",
              "      border: none;\n",
              "      border-radius: 50%;\n",
              "      cursor: pointer;\n",
              "      display: none;\n",
              "      fill: #1967D2;\n",
              "      height: 32px;\n",
              "      padding: 0 0 0 0;\n",
              "      width: 32px;\n",
              "    }\n",
              "\n",
              "    .colab-df-convert:hover {\n",
              "      background-color: #E2EBFA;\n",
              "      box-shadow: 0px 1px 2px rgba(60, 64, 67, 0.3), 0px 1px 3px 1px rgba(60, 64, 67, 0.15);\n",
              "      fill: #174EA6;\n",
              "    }\n",
              "\n",
              "    [theme=dark] .colab-df-convert {\n",
              "      background-color: #3B4455;\n",
              "      fill: #D2E3FC;\n",
              "    }\n",
              "\n",
              "    [theme=dark] .colab-df-convert:hover {\n",
              "      background-color: #434B5C;\n",
              "      box-shadow: 0px 1px 3px 1px rgba(0, 0, 0, 0.15);\n",
              "      filter: drop-shadow(0px 1px 2px rgba(0, 0, 0, 0.3));\n",
              "      fill: #FFFFFF;\n",
              "    }\n",
              "  </style>\n",
              "\n",
              "      <script>\n",
              "        const buttonEl =\n",
              "          document.querySelector('#df-6205cd8e-a980-4ed5-a1b1-7d92f66636d2 button.colab-df-convert');\n",
              "        buttonEl.style.display =\n",
              "          google.colab.kernel.accessAllowed ? 'block' : 'none';\n",
              "\n",
              "        async function convertToInteractive(key) {\n",
              "          const element = document.querySelector('#df-6205cd8e-a980-4ed5-a1b1-7d92f66636d2');\n",
              "          const dataTable =\n",
              "            await google.colab.kernel.invokeFunction('convertToInteractive',\n",
              "                                                     [key], {});\n",
              "          if (!dataTable) return;\n",
              "\n",
              "          const docLinkHtml = 'Like what you see? Visit the ' +\n",
              "            '<a target=\"_blank\" href=https://colab.research.google.com/notebooks/data_table.ipynb>data table notebook</a>'\n",
              "            + ' to learn more about interactive tables.';\n",
              "          element.innerHTML = '';\n",
              "          dataTable['output_type'] = 'display_data';\n",
              "          await google.colab.output.renderOutput(dataTable, element);\n",
              "          const docLink = document.createElement('div');\n",
              "          docLink.innerHTML = docLinkHtml;\n",
              "          element.appendChild(docLink);\n",
              "        }\n",
              "      </script>\n",
              "    </div>\n",
              "  </div>\n",
              "  "
            ]
          },
          "metadata": {},
          "execution_count": 9
        }
      ]
    },
    {
      "cell_type": "code",
      "source": [
        "# Now checking the shape of the new dataframe\n",
        "\n",
        "terrorism_data_new.shape"
      ],
      "metadata": {
        "id": "ywxOyP0zzyo8",
        "colab": {
          "base_uri": "https://localhost:8080/"
        },
        "outputId": "22f8036a-d60f-4865-eb23-5ea7da81cb7f"
      },
      "execution_count": null,
      "outputs": [
        {
          "output_type": "execute_result",
          "data": {
            "text/plain": [
              "(181691, 16)"
            ]
          },
          "metadata": {},
          "execution_count": 10
        }
      ]
    },
    {
      "cell_type": "code",
      "source": [
        "# Now we will rename our columns in the new dataframe\n",
        "\n",
        "terrorism_data_new = terrorism_data_new.rename(columns= {'iyear' : 'year','imonth' : 'month', 'iday' : 'day', 'country_txt' : 'country', 'region_txt' : 'region', 'provstate' : 'state', 'attacktype1_txt' : 'attack_type', 'targtype1_txt' : 'target_type', 'gname' : 'gang_name', 'weaptype1_txt' : 'weapon_type', 'nkill' : 'no_of_kills'  })"
      ],
      "metadata": {
        "id": "JIe5m07QFXDr"
      },
      "execution_count": null,
      "outputs": []
    },
    {
      "cell_type": "code",
      "source": [
        "# Checking that the columns are renamed\n",
        "\n",
        "terrorism_data_new.head(2)"
      ],
      "metadata": {
        "id": "HMIqfGrTXqcZ",
        "colab": {
          "base_uri": "https://localhost:8080/",
          "height": 263
        },
        "outputId": "e3456678-e637-4384-ce66-01a397974210"
      },
      "execution_count": null,
      "outputs": [
        {
          "output_type": "execute_result",
          "data": {
            "text/plain": [
              "   year  month  day             country                       region    state  \\\n",
              "0  1970      7    2  Dominican Republic  Central America & Caribbean      NaN   \n",
              "1  1970      0    0              Mexico                North America  Federal   \n",
              "\n",
              "            city   latitude  longitude  success                  attack_type  \\\n",
              "0  Santo Domingo  18.456792 -69.951164        1                Assassination   \n",
              "1    Mexico city  19.371887 -99.086624        1  Hostage Taking (Kidnapping)   \n",
              "\n",
              "                   target_type                           gang_name  \\\n",
              "0  Private Citizens & Property                              MANO-D   \n",
              "1      Government (Diplomatic)  23rd of September Communist League   \n",
              "\n",
              "  weapon_type  no_of_kills  ransom  \n",
              "0     Unknown          1.0     0.0  \n",
              "1     Unknown          0.0     1.0  "
            ],
            "text/html": [
              "\n",
              "  <div id=\"df-603fe7ff-feaf-4278-b897-01f41fb22c41\">\n",
              "    <div class=\"colab-df-container\">\n",
              "      <div>\n",
              "<style scoped>\n",
              "    .dataframe tbody tr th:only-of-type {\n",
              "        vertical-align: middle;\n",
              "    }\n",
              "\n",
              "    .dataframe tbody tr th {\n",
              "        vertical-align: top;\n",
              "    }\n",
              "\n",
              "    .dataframe thead th {\n",
              "        text-align: right;\n",
              "    }\n",
              "</style>\n",
              "<table border=\"1\" class=\"dataframe\">\n",
              "  <thead>\n",
              "    <tr style=\"text-align: right;\">\n",
              "      <th></th>\n",
              "      <th>year</th>\n",
              "      <th>month</th>\n",
              "      <th>day</th>\n",
              "      <th>country</th>\n",
              "      <th>region</th>\n",
              "      <th>state</th>\n",
              "      <th>city</th>\n",
              "      <th>latitude</th>\n",
              "      <th>longitude</th>\n",
              "      <th>success</th>\n",
              "      <th>attack_type</th>\n",
              "      <th>target_type</th>\n",
              "      <th>gang_name</th>\n",
              "      <th>weapon_type</th>\n",
              "      <th>no_of_kills</th>\n",
              "      <th>ransom</th>\n",
              "    </tr>\n",
              "  </thead>\n",
              "  <tbody>\n",
              "    <tr>\n",
              "      <th>0</th>\n",
              "      <td>1970</td>\n",
              "      <td>7</td>\n",
              "      <td>2</td>\n",
              "      <td>Dominican Republic</td>\n",
              "      <td>Central America &amp; Caribbean</td>\n",
              "      <td>NaN</td>\n",
              "      <td>Santo Domingo</td>\n",
              "      <td>18.456792</td>\n",
              "      <td>-69.951164</td>\n",
              "      <td>1</td>\n",
              "      <td>Assassination</td>\n",
              "      <td>Private Citizens &amp; Property</td>\n",
              "      <td>MANO-D</td>\n",
              "      <td>Unknown</td>\n",
              "      <td>1.0</td>\n",
              "      <td>0.0</td>\n",
              "    </tr>\n",
              "    <tr>\n",
              "      <th>1</th>\n",
              "      <td>1970</td>\n",
              "      <td>0</td>\n",
              "      <td>0</td>\n",
              "      <td>Mexico</td>\n",
              "      <td>North America</td>\n",
              "      <td>Federal</td>\n",
              "      <td>Mexico city</td>\n",
              "      <td>19.371887</td>\n",
              "      <td>-99.086624</td>\n",
              "      <td>1</td>\n",
              "      <td>Hostage Taking (Kidnapping)</td>\n",
              "      <td>Government (Diplomatic)</td>\n",
              "      <td>23rd of September Communist League</td>\n",
              "      <td>Unknown</td>\n",
              "      <td>0.0</td>\n",
              "      <td>1.0</td>\n",
              "    </tr>\n",
              "  </tbody>\n",
              "</table>\n",
              "</div>\n",
              "      <button class=\"colab-df-convert\" onclick=\"convertToInteractive('df-603fe7ff-feaf-4278-b897-01f41fb22c41')\"\n",
              "              title=\"Convert this dataframe to an interactive table.\"\n",
              "              style=\"display:none;\">\n",
              "        \n",
              "  <svg xmlns=\"http://www.w3.org/2000/svg\" height=\"24px\"viewBox=\"0 0 24 24\"\n",
              "       width=\"24px\">\n",
              "    <path d=\"M0 0h24v24H0V0z\" fill=\"none\"/>\n",
              "    <path d=\"M18.56 5.44l.94 2.06.94-2.06 2.06-.94-2.06-.94-.94-2.06-.94 2.06-2.06.94zm-11 1L8.5 8.5l.94-2.06 2.06-.94-2.06-.94L8.5 2.5l-.94 2.06-2.06.94zm10 10l.94 2.06.94-2.06 2.06-.94-2.06-.94-.94-2.06-.94 2.06-2.06.94z\"/><path d=\"M17.41 7.96l-1.37-1.37c-.4-.4-.92-.59-1.43-.59-.52 0-1.04.2-1.43.59L10.3 9.45l-7.72 7.72c-.78.78-.78 2.05 0 2.83L4 21.41c.39.39.9.59 1.41.59.51 0 1.02-.2 1.41-.59l7.78-7.78 2.81-2.81c.8-.78.8-2.07 0-2.86zM5.41 20L4 18.59l7.72-7.72 1.47 1.35L5.41 20z\"/>\n",
              "  </svg>\n",
              "      </button>\n",
              "      \n",
              "  <style>\n",
              "    .colab-df-container {\n",
              "      display:flex;\n",
              "      flex-wrap:wrap;\n",
              "      gap: 12px;\n",
              "    }\n",
              "\n",
              "    .colab-df-convert {\n",
              "      background-color: #E8F0FE;\n",
              "      border: none;\n",
              "      border-radius: 50%;\n",
              "      cursor: pointer;\n",
              "      display: none;\n",
              "      fill: #1967D2;\n",
              "      height: 32px;\n",
              "      padding: 0 0 0 0;\n",
              "      width: 32px;\n",
              "    }\n",
              "\n",
              "    .colab-df-convert:hover {\n",
              "      background-color: #E2EBFA;\n",
              "      box-shadow: 0px 1px 2px rgba(60, 64, 67, 0.3), 0px 1px 3px 1px rgba(60, 64, 67, 0.15);\n",
              "      fill: #174EA6;\n",
              "    }\n",
              "\n",
              "    [theme=dark] .colab-df-convert {\n",
              "      background-color: #3B4455;\n",
              "      fill: #D2E3FC;\n",
              "    }\n",
              "\n",
              "    [theme=dark] .colab-df-convert:hover {\n",
              "      background-color: #434B5C;\n",
              "      box-shadow: 0px 1px 3px 1px rgba(0, 0, 0, 0.15);\n",
              "      filter: drop-shadow(0px 1px 2px rgba(0, 0, 0, 0.3));\n",
              "      fill: #FFFFFF;\n",
              "    }\n",
              "  </style>\n",
              "\n",
              "      <script>\n",
              "        const buttonEl =\n",
              "          document.querySelector('#df-603fe7ff-feaf-4278-b897-01f41fb22c41 button.colab-df-convert');\n",
              "        buttonEl.style.display =\n",
              "          google.colab.kernel.accessAllowed ? 'block' : 'none';\n",
              "\n",
              "        async function convertToInteractive(key) {\n",
              "          const element = document.querySelector('#df-603fe7ff-feaf-4278-b897-01f41fb22c41');\n",
              "          const dataTable =\n",
              "            await google.colab.kernel.invokeFunction('convertToInteractive',\n",
              "                                                     [key], {});\n",
              "          if (!dataTable) return;\n",
              "\n",
              "          const docLinkHtml = 'Like what you see? Visit the ' +\n",
              "            '<a target=\"_blank\" href=https://colab.research.google.com/notebooks/data_table.ipynb>data table notebook</a>'\n",
              "            + ' to learn more about interactive tables.';\n",
              "          element.innerHTML = '';\n",
              "          dataTable['output_type'] = 'display_data';\n",
              "          await google.colab.output.renderOutput(dataTable, element);\n",
              "          const docLink = document.createElement('div');\n",
              "          docLink.innerHTML = docLinkHtml;\n",
              "          element.appendChild(docLink);\n",
              "        }\n",
              "      </script>\n",
              "    </div>\n",
              "  </div>\n",
              "  "
            ]
          },
          "metadata": {},
          "execution_count": 12
        }
      ]
    },
    {
      "cell_type": "code",
      "source": [
        "# Now we will check the info of the new dataset\n",
        "\n",
        "terrorism_data_new.info()"
      ],
      "metadata": {
        "id": "E3_dUZfLYDzc",
        "colab": {
          "base_uri": "https://localhost:8080/"
        },
        "outputId": "06b3ee19-5ad1-49c6-8828-d815e274fac8"
      },
      "execution_count": null,
      "outputs": [
        {
          "output_type": "stream",
          "name": "stdout",
          "text": [
            "<class 'pandas.core.frame.DataFrame'>\n",
            "RangeIndex: 181691 entries, 0 to 181690\n",
            "Data columns (total 16 columns):\n",
            " #   Column       Non-Null Count   Dtype  \n",
            "---  ------       --------------   -----  \n",
            " 0   year         181691 non-null  int64  \n",
            " 1   month        181691 non-null  int64  \n",
            " 2   day          181691 non-null  int64  \n",
            " 3   country      181691 non-null  object \n",
            " 4   region       181691 non-null  object \n",
            " 5   state        181270 non-null  object \n",
            " 6   city         181257 non-null  object \n",
            " 7   latitude     177135 non-null  float64\n",
            " 8   longitude    177134 non-null  float64\n",
            " 9   success      181691 non-null  int64  \n",
            " 10  attack_type  181691 non-null  object \n",
            " 11  target_type  181691 non-null  object \n",
            " 12  gang_name    181691 non-null  object \n",
            " 13  weapon_type  181691 non-null  object \n",
            " 14  no_of_kills  171378 non-null  float64\n",
            " 15  ransom       77381 non-null   float64\n",
            "dtypes: float64(4), int64(4), object(8)\n",
            "memory usage: 22.2+ MB\n"
          ]
        }
      ]
    },
    {
      "cell_type": "code",
      "source": [
        "# Handeling the Nan values using the fillna method\n",
        " \n",
        "terrorism_data_new['state'] = terrorism_data_new['state'].fillna('unknown')\n",
        "terrorism_data_new['city'] = terrorism_data_new['city'].fillna('unknown')\n",
        "terrorism_data_new['no_of_kills'] = terrorism_data_new['no_of_kills'].fillna(0)\n"
      ],
      "metadata": {
        "id": "38pCdaG4YL1v"
      },
      "execution_count": null,
      "outputs": []
    },
    {
      "cell_type": "code",
      "source": [
        "# checking for the Nan values\n",
        "\n",
        "terrorism_data_new.info()"
      ],
      "metadata": {
        "id": "gWJlBV8KZBth",
        "colab": {
          "base_uri": "https://localhost:8080/"
        },
        "outputId": "02d6121d-fdc4-49cc-b12d-058b0765d7b7"
      },
      "execution_count": null,
      "outputs": [
        {
          "output_type": "stream",
          "name": "stdout",
          "text": [
            "<class 'pandas.core.frame.DataFrame'>\n",
            "RangeIndex: 181691 entries, 0 to 181690\n",
            "Data columns (total 16 columns):\n",
            " #   Column       Non-Null Count   Dtype  \n",
            "---  ------       --------------   -----  \n",
            " 0   year         181691 non-null  int64  \n",
            " 1   month        181691 non-null  int64  \n",
            " 2   day          181691 non-null  int64  \n",
            " 3   country      181691 non-null  object \n",
            " 4   region       181691 non-null  object \n",
            " 5   state        181691 non-null  object \n",
            " 6   city         181691 non-null  object \n",
            " 7   latitude     177135 non-null  float64\n",
            " 8   longitude    177134 non-null  float64\n",
            " 9   success      181691 non-null  int64  \n",
            " 10  attack_type  181691 non-null  object \n",
            " 11  target_type  181691 non-null  object \n",
            " 12  gang_name    181691 non-null  object \n",
            " 13  weapon_type  181691 non-null  object \n",
            " 14  no_of_kills  181691 non-null  float64\n",
            " 15  ransom       77381 non-null   float64\n",
            "dtypes: float64(4), int64(4), object(8)\n",
            "memory usage: 22.2+ MB\n"
          ]
        }
      ]
    },
    {
      "cell_type": "code",
      "source": [
        "# Now we will check the sum of the Nan values present in all of the columns\n",
        "\n",
        "terrorism_data_new.isnull().sum()\n"
      ],
      "metadata": {
        "id": "vkKblloHZOcq",
        "colab": {
          "base_uri": "https://localhost:8080/"
        },
        "outputId": "1647d67e-11d9-42f9-9783-4a36807320ea"
      },
      "execution_count": null,
      "outputs": [
        {
          "output_type": "execute_result",
          "data": {
            "text/plain": [
              "year                0\n",
              "month               0\n",
              "day                 0\n",
              "country             0\n",
              "region              0\n",
              "state               0\n",
              "city                0\n",
              "latitude         4556\n",
              "longitude        4557\n",
              "success             0\n",
              "attack_type         0\n",
              "target_type         0\n",
              "gang_name           0\n",
              "weapon_type         0\n",
              "no_of_kills         0\n",
              "ransom         104310\n",
              "dtype: int64"
            ]
          },
          "metadata": {},
          "execution_count": 16
        }
      ]
    },
    {
      "cell_type": "markdown",
      "source": [
        "## <b> 3. Exploratory Data Analysis </b>"
      ],
      "metadata": {
        "id": "fdaCrHVaRV4W"
      }
    },
    {
      "cell_type": "markdown",
      "source": [
        "## <b> Visualising the hot zones under attack over the world *******"
      ],
      "metadata": {
        "id": "0nUqAMQDCkdP"
      }
    },
    {
      "cell_type": "code",
      "source": [
        "import json\n",
        "#import country_converter as coco\n",
        "from datetime import datetime, timedelta\n",
        "import requests\n",
        "import pandas as pd\n",
        "#import geopandas as gpd\n",
        "import matplotlib.pyplot as plt\n"
      ],
      "metadata": {
        "id": "Dt_lgL_ZcxVV"
      },
      "execution_count": null,
      "outputs": []
    },
    {
      "cell_type": "code",
      "source": [
        ""
      ],
      "metadata": {
        "id": "KFRdm5e1rklr"
      },
      "execution_count": null,
      "outputs": []
    },
    {
      "cell_type": "markdown",
      "source": [
        "## <b> Total number of attacks in every year by region\n"
      ],
      "metadata": {
        "id": "RtaUX8g0Jmou"
      }
    },
    {
      "cell_type": "code",
      "source": [
        "attacks_per_year = terrorism_data_new.groupby(['year', 'region']).count().unstack()['country']\n",
        "attacks_per_year"
      ],
      "metadata": {
        "id": "EllL7MjkZhcT"
      },
      "execution_count": null,
      "outputs": []
    },
    {
      "cell_type": "code",
      "source": [
        "# Plotting the Multiline Chart (subplot by decade)\n",
        "attacks_per_year.plot(grid = True)\n",
        "\n",
        "# Set a title of the chart.\n",
        "plt.title('Attacks by region per decade', fontsize = 25)\n",
        "\n",
        "# Set the x and y axis labels\n",
        "plt.ylabel('No. of Attacks', fontsize = 15)\n",
        "plt.xlabel('Year', fontsize = 15)\n",
        "\n",
        "# Setting the figure size\n",
        "plt.rcParams['figure.figsize'] = (20, 5)\n",
        "\n",
        "# show a legend on the plot\n",
        "plt.legend()"
      ],
      "metadata": {
        "id": "M1wcfsZ5ZhV2",
        "colab": {
          "base_uri": "https://localhost:8080/",
          "height": 381
        },
        "outputId": "0f43cda5-3a31-4bf9-ad7d-5236c8de00dc"
      },
      "execution_count": null,
      "outputs": [
        {
          "output_type": "execute_result",
          "data": {
            "text/plain": [
              "<matplotlib.legend.Legend at 0x7ff1e24e0d90>"
            ]
          },
          "metadata": {},
          "execution_count": 191
        },
        {
          "output_type": "display_data",
          "data": {
            "text/plain": [
              "<Figure size 1440x360 with 1 Axes>"
            ],
            "image/png": "[encoded data removed]"
          },
          "metadata": {
            "needs_background": "light"
          }
        }
      ]
    },
    {
      "cell_type": "markdown",
      "source": [
        "## <b> Analysing the trend across the year"
      ],
      "metadata": {
        "id": "hepDGt98Ctah"
      }
    },
    {
      "cell_type": "code",
      "source": [
        "yearly_trend = terrorism_data_new.year.value_counts().sort_index(ascending=True)"
      ],
      "metadata": {
        "id": "9NGcgKFZC2G5"
      },
      "execution_count": null,
      "outputs": []
    },
    {
      "cell_type": "code",
      "source": [
        "# Plotting the line Chart to show the trend.\n",
        "yearly_trend.plot(kind = 'line', marker = 'o', ls = ':', grid = True, colormap = \"cividis\").patch.set_facecolor('#f0ffff')\n",
        "\n",
        "# Set a title of the chart.\n",
        "plt.title('Attacks Per Year', fontsize = 25)\n",
        "\n",
        "# Set the x and y axis labels\n",
        "plt.ylabel('No. of Attacks', fontsize = 15)\n",
        "plt.xlabel('Year', fontsize = 15)\n",
        "\n",
        "# Setting the figure size\n",
        "plt.rcParams['figure.figsize'] = (15, 5)\n",
        "\n",
        "# show a legend on the plot\n",
        "plt.legend()\n",
        "\n",
        "# Display a figure.\n",
        "plt.show()"
      ],
      "metadata": {
        "id": "YHCzE8zyqfWp",
        "colab": {
          "base_uri": "https://localhost:8080/",
          "height": 364
        },
        "outputId": "a38b2579-b52e-4b11-fd17-08a95e5f1fd9"
      },
      "execution_count": null,
      "outputs": [
        {
          "output_type": "display_data",
          "data": {
            "text/plain": [
              "<Figure size 1080x360 with 1 Axes>"
            ],
            "image/png": "[encoded data removed]"
          },
          "metadata": {
            "needs_background": "light"
          }
        }
      ]
    },
    {
      "cell_type": "markdown",
      "source": [
        "## <b> In the above graph it is visible that for year 2014 their where most terrorist attack so analysing which region got attacked most"
      ],
      "metadata": {
        "id": "HklCw6-kKg9L"
      }
    },
    {
      "cell_type": "code",
      "source": [
        "attacks_in_2014 = terrorism_data_new[terrorism_data_new['year'] == 2014]\n",
        "attack_2014 = attacks_in_2014['region'].value_counts().to_frame()"
      ],
      "metadata": {
        "id": "t6lHa0S9KVqe"
      },
      "execution_count": null,
      "outputs": []
    },
    {
      "cell_type": "code",
      "source": [
        "attack_2014.plot(kind = 'barh')"
      ],
      "metadata": {
        "id": "iLga1ibrY782",
        "colab": {
          "base_uri": "https://localhost:8080/",
          "height": 328
        },
        "outputId": "45d87dde-6707-4ba8-8790-541fac64b668"
      },
      "execution_count": null,
      "outputs": [
        {
          "output_type": "execute_result",
          "data": {
            "text/plain": [
              "<matplotlib.axes._subplots.AxesSubplot at 0x7ff1e7d94b10>"
            ]
          },
          "metadata": {},
          "execution_count": 146
        },
        {
          "output_type": "display_data",
          "data": {
            "text/plain": [
              "<Figure size 1440x360 with 1 Axes>"
            ],
            "image/png": "[encoded data removed]"
          },
          "metadata": {
            "needs_background": "light"
          }
        }
      ]
    },
    {
      "cell_type": "code",
      "source": [
        ""
      ],
      "metadata": {
        "id": "xydEUIVb1tsy"
      },
      "execution_count": null,
      "outputs": []
    }
  ]
}